{
 "cells": [
  {
   "cell_type": "code",
   "execution_count": null,
   "metadata": {},
   "outputs": [],
   "source": [
    "from arcgis.gis import GIS"
   ]
  },
  {
   "cell_type": "code",
   "execution_count": null,
   "metadata": {},
   "outputs": [],
   "source": [
    "gis = GIS('Pro')"
   ]
  },
  {
   "cell_type": "code",
   "execution_count": null,
   "metadata": {},
   "outputs": [],
   "source": [
    "trees = gis.content.get('0e899410cfe94ffa8ac1d8bcd497154b')\n",
    "trees"
   ]
  },
  {
   "cell_type": "code",
   "execution_count": null,
   "metadata": {},
   "outputs": [],
   "source": [
    "trees.layers"
   ]
  },
  {
   "cell_type": "code",
   "execution_count": null,
   "metadata": {},
   "outputs": [],
   "source": [
    "treeLayer = trees.layers[0]\n",
    "treeLayer.properties"
   ]
  },
  {
   "cell_type": "code",
   "execution_count": null,
   "metadata": {},
   "outputs": [],
   "source": [
    "if \"Editing\" in treeLayer.properties['capabilities']:\n",
    "    print(\"you can edit\")\n",
    "else:\n",
    "    print(\"editing is not available\")"
   ]
  },
  {
   "cell_type": "code",
   "execution_count": null,
   "metadata": {},
   "outputs": [],
   "source": [
    "#for loop\n",
    "for fld in treeLayer.properties.fields:\n",
    "    print(fld.name)\n",
    "    \n",
    "    if fld.name == \"Status\":\n",
    "        print(\"Status field is there\")\n",
    "    else:\n",
    "        print(\"Status field is not there\")\n",
    "    \n",
    "# list comprehension\n",
    "fldNames = [fld.name for fld in treeLayer.properties.fields]\n",
    "    \n",
    "\"Status\" in fldNames"
   ]
  },
  {
   "cell_type": "markdown",
   "metadata": {},
   "source": [
    "### Search for Tree Survey Layers and Examine properties and fields"
   ]
  },
  {
   "cell_type": "code",
   "execution_count": null,
   "metadata": {},
   "outputs": [],
   "source": [
    "import fnmatch"
   ]
  },
  {
   "cell_type": "code",
   "execution_count": null,
   "metadata": {},
   "outputs": [],
   "source": [
    "treeLayersSearch = gis.content.search(query=\"tags:AUTO\",outside_org=False,\n",
    "                             item_type=\"Feature Layer\",max_items=50)\n",
    "\n",
    "treeLayers = []\n",
    "\n",
    "for layerItem in treeLayersSearch:\n",
    "     if fnmatch.fnmatch(layerItem.title,\"*trees*\"):\n",
    "         treeLayers.append(layerItem)\n"
   ]
  },
  {
   "cell_type": "code",
   "execution_count": null,
   "metadata": {},
   "outputs": [],
   "source": [
    "for tl in treeLayers:\n",
    "    print(tl.title)\n",
    "    if tl.layers:\n",
    "        lyr = tl.layers[0]\n",
    "\n",
    "        print(lyr.properties.name)\n",
    "        \n",
    "        if \"Editing\" in lyr.properties['capabilities']:\n",
    "            print(\"you can edit\")\n",
    "        else:\n",
    "            print(\"editing is not available\")\n",
    "\n",
    "        fldNames = [fld.name for fld in treeLayer.properties.fields]\n",
    "\n",
    "        if \"status\" in fldNames:\n",
    "            print(\"status is a field\")\n",
    "        print(\"~~~~~~~~~~~~~~~~~~~~~~\")\n"
   ]
  },
  {
   "cell_type": "code",
   "execution_count": null,
   "metadata": {},
   "outputs": [],
   "source": []
  }
 ],
 "metadata": {
  "kernelspec": {
   "display_name": "ArcGISPro",
   "language": "python",
   "name": "python3"
  },
  "language_info": {
   "file_extension": ".py",
   "mimetype": "text/x-python",
   "name": "python",
   "version": "3.11.10"
  },
  "toc": {
   "base_numbering": 1,
   "nav_menu": {},
   "number_sections": true,
   "sideBar": true,
   "skip_h1_title": false,
   "title_cell": "Table of Contents",
   "title_sidebar": "Contents",
   "toc_cell": false,
   "toc_position": {},
   "toc_section_display": true,
   "toc_window_display": false
  }
 },
 "nbformat": 4,
 "nbformat_minor": 4
}
