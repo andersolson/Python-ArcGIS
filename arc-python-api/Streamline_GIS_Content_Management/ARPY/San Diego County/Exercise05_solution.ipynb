{
 "cells": [
  {
   "cell_type": "code",
   "execution_count": 1,
   "metadata": {},
   "outputs": [],
   "source": [
    "from arcgis.gis import GIS\n",
    "import pandas as pd\n",
    "from arcgis.features import GeoAccessor,GeoSeriesAccessor\n"
   ]
  },
  {
   "cell_type": "code",
   "execution_count": 2,
   "metadata": {},
   "outputs": [],
   "source": [
    "gis = GIS('https://trainingservices.maps.arcgis.com/','auto116_ts','12Arc.Union')"
   ]
  },
  {
   "cell_type": "code",
   "execution_count": null,
   "metadata": {},
   "outputs": [],
   "source": [
    "downTownTreeItem = gis.content.get('c2150ca2d0444cc4bcbead6c3d9202ea')\n",
    "downTownTreeLayer = downTownTreeItem.layers[0]"
   ]
  },
  {
   "cell_type": "code",
   "execution_count": null,
   "metadata": {},
   "outputs": [],
   "source": [
    "downTownTreeLayer.properties['capabilities']"
   ]
  },
  {
   "cell_type": "code",
   "execution_count": null,
   "metadata": {},
   "outputs": [],
   "source": [
    "newTrees = r\"C:\\EsriTraining\\AUTO_BC\\Ballparktrees.csv\"\n",
    "\n",
    "df = pd.read_csv(newTrees)\n",
    "\n",
    "newTreesSedf = pd.DataFrame.spatial.from_xy(df,x_column=\"X\",y_column=\"Y\",sr=2230)\n",
    "\n",
    "newTreesSedf.head()\n"
   ]
  },
  {
   "cell_type": "code",
   "execution_count": null,
   "metadata": {},
   "outputs": [],
   "source": [
    "lyrFldNames = [fld.name for fld in downTownTreeLayer.properties.fields]\n",
    "\n",
    "sedfCols = list(newTreesSedf.columns)\n",
    "\n",
    "notInSEDF = set(sedfCols) - set(lyrFldNames)\n",
    "\n",
    "notInSEDF"
   ]
  },
  {
   "cell_type": "code",
   "execution_count": null,
   "metadata": {},
   "outputs": [],
   "source": [
    "newTreesSedf.drop(['ID', 'ID2', 'ID3', 'X', 'Y'],axis=1,inplace=True)\n",
    "newTreesSedf.info()"
   ]
  },
  {
   "cell_type": "code",
   "execution_count": null,
   "metadata": {},
   "outputs": [],
   "source": [
    "newTrees = newTreesSedf.spatial.to_featureset()\n",
    "downTownTreeLayer.edit_features(adds=newTrees)"
   ]
  },
  {
   "cell_type": "code",
   "execution_count": null,
   "metadata": {},
   "outputs": [],
   "source": [
    "treesToCalc = downTownTreeLayer.query(where=\"SPECIES=Null\",out_fields=[\"OBJECTID\",\"SPECIES\"])\n",
    "treesToCalc"
   ]
  },
  {
   "cell_type": "code",
   "execution_count": null,
   "metadata": {},
   "outputs": [],
   "source": [
    "for tree in treesToCalc:\n",
    "    tree.attributes['SPECIES'] = \"PALM\""
   ]
  },
  {
   "cell_type": "code",
   "execution_count": null,
   "metadata": {},
   "outputs": [],
   "source": [
    "downTownTreeLayer.edit_features(updates=treesToCalc.features)"
   ]
  },
  {
   "cell_type": "markdown",
   "metadata": {},
   "source": [
    "## Remove Trees from a service"
   ]
  },
  {
   "cell_type": "code",
   "execution_count": 4,
   "metadata": {},
   "outputs": [
    {
     "name": "stdout",
     "output_type": "stream",
     "text": [
      "you can edit\n"
     ]
    }
   ],
   "source": [
    "RBTreeItem = gis.content.get('9e926e557d60486083da7af896ffb8ae')\n",
    "RBTreeLayer = RBTreeItem.layers[0]\n",
    "\n",
    "if \"Editing\" in RBTreeLayer.properties['capabilities']:\n",
    "    print(\"you can edit\")\n",
    "else:\n",
    "    print(\"editing is not available\")"
   ]
  },
  {
   "cell_type": "code",
   "execution_count": 5,
   "metadata": {},
   "outputs": [],
   "source": [
    "delSQL = \"SPECIES = 'BRADFORD PEAR' OR SPECIES = 'RED IRONBARK' OR SPECIES = 'JACARANDA'\""
   ]
  },
  {
   "cell_type": "code",
   "execution_count": null,
   "metadata": {},
   "outputs": [],
   "source": [
    "RBTreeLayer.delete_features(delSQL)"
   ]
  },
  {
   "cell_type": "code",
   "execution_count": 6,
   "metadata": {},
   "outputs": [
    {
     "data": {
      "text/plain": [
       "<FeatureSet> 325 features"
      ]
     },
     "execution_count": 6,
     "metadata": {},
     "output_type": "execute_result"
    }
   ],
   "source": [
    "RBTreeLayer.query(delSQL)"
   ]
  },
  {
   "cell_type": "code",
   "execution_count": null,
   "metadata": {},
   "outputs": [],
   "source": []
  }
 ],
 "metadata": {
  "kernelspec": {
   "display_name": "ArcGISPro",
   "language": "python",
   "name": "python3"
  },
  "language_info": {
   "file_extension": ".py",
   "mimetype": "text/x-python",
   "name": "python",
   "version": "3.11.10"
  },
  "toc": {
   "base_numbering": 1,
   "nav_menu": {},
   "number_sections": true,
   "sideBar": true,
   "skip_h1_title": false,
   "title_cell": "Table of Contents",
   "title_sidebar": "Contents",
   "toc_cell": false,
   "toc_position": {},
   "toc_section_display": true,
   "toc_window_display": false
  }
 },
 "nbformat": 4,
 "nbformat_minor": 4
}
