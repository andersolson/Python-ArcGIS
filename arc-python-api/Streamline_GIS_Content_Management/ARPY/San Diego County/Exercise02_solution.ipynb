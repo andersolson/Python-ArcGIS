{
 "cells": [
  {
   "cell_type": "code",
   "execution_count": 5,
   "metadata": {},
   "outputs": [],
   "source": [
    "from arcgis.gis import GIS\n",
    "gis = GIS('Pro')"
   ]
  },
  {
   "cell_type": "code",
   "execution_count": null,
   "metadata": {},
   "outputs": [],
   "source": [
    "SD_Geology_Map = gis.content.get('b7aafce09cf843c98ae7a1e6193932f3')\n",
    "SD_Geology_Map"
   ]
  },
  {
   "cell_type": "code",
   "execution_count": null,
   "metadata": {},
   "outputs": [],
   "source": [
    "SD_Geology_Map.title\n",
    "SD_Geology_Map.description\n",
    "SD_Geology_Map.snippet\n",
    "SD_Geology_Map.tags"
   ]
  },
  {
   "cell_type": "code",
   "execution_count": null,
   "metadata": {},
   "outputs": [],
   "source": [
    "updated_properties = {'description':'San Diego County regional geology map.This map contains layers to help describe various rock formations throughout all of San Diego County.',\n",
    "                    'snippet': f'{SD_Geology_Map.title}',\n",
    "                    'tags':'SANDAG, SD County,Geology'}\n",
    "\n",
    "SD_Geology_Map.update(item_properties=updated_properties)"
   ]
  },
  {
   "cell_type": "code",
   "execution_count": null,
   "metadata": {
    "scrolled": true
   },
   "outputs": [],
   "source": [
    "search_result_SD = gis.content.search(query=\"snippet:SanDeigo* AND type:map AND tags:AUTO\",max_items=100)                  \n",
    "search_result_SD[0].snippet"
   ]
  },
  {
   "cell_type": "code",
   "execution_count": null,
   "metadata": {
    "scrolled": true
   },
   "outputs": [],
   "source": [
    "search_result_SD = gis.content.search(query=\"snippet:SanDeigo* AND type:map AND tags:AUTO\",max_items=100)                  \n",
    "\n",
    "for sdMap in search_result_SD:\n",
    "        snippetUpdate = sdMap.snippet.replace('SanDeigo','SanDiego')\n",
    "        sdMap.update(item_properties={'snippet':snippetUpdate})\n",
    "        print(sdMap.snippet)"
   ]
  },
  {
   "cell_type": "code",
   "execution_count": null,
   "metadata": {},
   "outputs": [],
   "source": []
  }
 ],
 "metadata": {
  "kernelspec": {
   "display_name": "ArcGISPro",
   "language": "python",
   "name": "python3"
  },
  "language_info": {
   "file_extension": ".py",
   "mimetype": "text/x-python",
   "name": "python",
   "version": "3.11.10"
  },
  "toc": {
   "base_numbering": 1,
   "nav_menu": {},
   "number_sections": true,
   "sideBar": true,
   "skip_h1_title": false,
   "title_cell": "Table of Contents",
   "title_sidebar": "Contents",
   "toc_cell": false,
   "toc_position": {},
   "toc_section_display": true,
   "toc_window_display": false
  }
 },
 "nbformat": 4,
 "nbformat_minor": 4
}
