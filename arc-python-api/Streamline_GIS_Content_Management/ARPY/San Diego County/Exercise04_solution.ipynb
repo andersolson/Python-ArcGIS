{
 "cells": [
  {
   "cell_type": "code",
   "execution_count": null,
   "metadata": {},
   "outputs": [],
   "source": [
    "from arcgis.gis import GIS\n",
    "import fnmatch"
   ]
  },
  {
   "cell_type": "code",
   "execution_count": null,
   "metadata": {},
   "outputs": [],
   "source": [
    "gis = GIS('Pro')"
   ]
  },
  {
   "cell_type": "markdown",
   "metadata": {},
   "source": [
    "### Get the Rancho Bernardo Tree Survey"
   ]
  },
  {
   "cell_type": "code",
   "execution_count": null,
   "metadata": {},
   "outputs": [],
   "source": [
    "trees = gis.content.get('0e899410cfe94ffa8ac1d8bcd497154b')\n",
    "treeLayer = trees.layers[0]"
   ]
  },
  {
   "cell_type": "code",
   "execution_count": null,
   "metadata": {},
   "outputs": [],
   "source": [
    "flManager = treeLayer.manager"
   ]
  },
  {
   "cell_type": "code",
   "execution_count": null,
   "metadata": {},
   "outputs": [],
   "source": [
    "adFLD = {'fields':[{'name':'Status','type':'esriFieldTypeString','length':10,\n",
    "                    'alias':'Status','nullable':True,'editable':True}]}\n",
    "\n",
    "flManager.add_to_definition(adFLD)"
   ]
  },
  {
   "cell_type": "markdown",
   "metadata": {},
   "source": [
    "### Search for Tree Survey Layers and Add the Status Field"
   ]
  },
  {
   "cell_type": "code",
   "execution_count": null,
   "metadata": {},
   "outputs": [],
   "source": [
    "trees = gis.content.search(query=\"owner:\" + gis.users.me.username,item_type='Feature Layer Collection',max_items=1000)"
   ]
  },
  {
   "cell_type": "code",
   "execution_count": null,
   "metadata": {},
   "outputs": [],
   "source": [
    "treesFL = [item for item in trees if fnmatch.fnmatch(item.title,\"*trees*\")]\n",
    "treesFL"
   ]
  },
  {
   "cell_type": "code",
   "execution_count": null,
   "metadata": {},
   "outputs": [],
   "source": [
    "for treeItem in treesFL:\n",
    "\n",
    "    treeLayer = treeItem.layers[0]\n",
    "    \n",
    "    flManager = treeLayer.manager\n",
    "    \n",
    "    for fld in treeLayer.properties.fields:\n",
    "        print(fld.name)\n",
    "\n",
    "    fldNames = [fld.name for fld in treeLayer.properties.fields]\n",
    "\n",
    "    if \"Status\" not in fldNames:\n",
    "        print(\"not there\")\n",
    "        \n",
    "        \n",
    "    "
   ]
  },
  {
   "cell_type": "markdown",
   "metadata": {},
   "source": [
    "### Find and modify the layer names"
   ]
  },
  {
   "cell_type": "code",
   "execution_count": null,
   "metadata": {},
   "outputs": [],
   "source": [
    "for treeItem in treesFL:\n",
    "\n",
    "    treeLayer = treeItem.layers[0]\n",
    "    \n",
    "    flManager = treeLayer.manager\n",
    "\n",
    "    #print(treeLayer.properties)\n",
    "\n",
    "    newLayerName = f\"{treeItem.title}_SD\"\n",
    "\n",
    "    print(newLayerName)\n",
    "\n",
    "    flManager.update_definition({'name':newLayerName})\n",
    "    \n",
    "    \n",
    "        \n",
    "       \n",
    "    "
   ]
  },
  {
   "cell_type": "code",
   "execution_count": null,
   "metadata": {},
   "outputs": [],
   "source": []
  }
 ],
 "metadata": {
  "kernelspec": {
   "display_name": "ArcGISPro",
   "language": "python",
   "name": "python3"
  },
  "language_info": {
   "file_extension": ".py",
   "mimetype": "text/x-python",
   "name": "python",
   "version": "3.11.10"
  },
  "toc": {
   "base_numbering": 1,
   "nav_menu": {},
   "number_sections": true,
   "sideBar": true,
   "skip_h1_title": false,
   "title_cell": "Table of Contents",
   "title_sidebar": "Contents",
   "toc_cell": false,
   "toc_position": {},
   "toc_section_display": true,
   "toc_window_display": false
  }
 },
 "nbformat": 4,
 "nbformat_minor": 4
}
